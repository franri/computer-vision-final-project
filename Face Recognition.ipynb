{
 "cells": [
  {
   "cell_type": "code",
   "execution_count": 1,
   "metadata": {
    "id": "z-JwzsV3x8Yr"
   },
   "outputs": [],
   "source": [
    "%%script false --no-raise-error\n",
    "#@title \n",
    "from google.colab import drive\n",
    "drive.mount('/content/drive')"
   ]
  },
  {
   "cell_type": "code",
   "execution_count": 2,
   "metadata": {
    "id": "UZdQGl5py5EL"
   },
   "outputs": [],
   "source": [
    "%%script false --no-raise-error\n",
    "%cd /content/drive/MyDrive/computer-vision-um/cv-um-2021/trabajo-final/"
   ]
  },
  {
   "cell_type": "markdown",
   "metadata": {
    "id": "QYz6RPmCyGdX"
   },
   "source": [
    "\n",
    "# Ejercicio 2.2: Face Recognition\n",
    "\n",
    "Tal como se explica en la letra del obligatorio final en este ejercicio es necesario implementar una solucion para reconocimiento de facial. Se proveen datos de entrenamiento y es necesario entrenar un clasificador para hacer el reconocimiento. Todo el código necesario para comenzar a trabajar está provisto en este notebook.\n",
    "\n",
    "\n",
    "\\**En los ejercicios del trabajo final es posible utilizar funciones de librerias existentes o código sacado de internet. Siempre y cuando **no se usen para resolver explicitamente lo que pide el ejercicio** y al código sacado de interenet le agreguen el link en comentarios de donde fue sacado ese código.*\n",
    "\n"
   ]
  },
  {
   "cell_type": "code",
   "execution_count": 3,
   "metadata": {
    "id": "RELk0NVIptA4"
   },
   "outputs": [],
   "source": [
    "import cv2 \n",
    "import numpy as np\n",
    "from enum import Enum\n",
    "import os\n",
    "import sklearn \n",
    "import sklearn.neighbors\n",
    "import matplotlib.pyplot as plt\n",
    "import pickle\n",
    "import sys\n",
    "import scipy.io"
   ]
  },
  {
   "cell_type": "markdown",
   "metadata": {
    "id": "3JXhv8jYptA8"
   },
   "source": [
    "\n",
    "\n",
    "### Cargar Datos de Entrenamiento y Validación\n"
   ]
  },
  {
   "cell_type": "code",
   "execution_count": 4,
   "metadata": {
    "id": "UrRc4YGHptA9"
   },
   "outputs": [],
   "source": [
    "data_dir='./data'\n",
    "face_recognition_dir = os.path.join(data_dir, 'face_recognition')\n",
    "training_data_file = os.path.join(face_recognition_dir, 'face_recognition_data_tr.mat')\n",
    "validation_data_file = os.path.join(face_recognition_dir, 'face_recognition_data_va.mat')\n",
    "\n",
    "\n",
    "testing_data_file = os.path.join(face_recognition_dir, 'face_recognition_data_te.mat')"
   ]
  },
  {
   "cell_type": "code",
   "execution_count": 5,
   "metadata": {
    "id": "m3dmVXAFptA-"
   },
   "outputs": [],
   "source": [
    "training_data_mat = scipy.io.loadmat(training_data_file)\n",
    "validation_data_mat = scipy.io.loadmat(validation_data_file)\n",
    "testing_data_mat = scipy.io.loadmat(testing_data_file)"
   ]
  },
  {
   "cell_type": "code",
   "execution_count": 6,
   "metadata": {
    "id": "NptLYA8sptA-"
   },
   "outputs": [],
   "source": [
    "training_data=training_data_mat['tr_img_sample']\n",
    "validation_data = validation_data_mat['va_img_sample']\n",
    "\n",
    "testing_data = testing_data_mat['va_img_sample']"
   ]
  },
  {
   "cell_type": "markdown",
   "metadata": {
    "id": "h_pUK1Nhz1eE"
   },
   "source": [
    "### Esqueleto de funciones para extracción de Features"
   ]
  },
  {
   "cell_type": "code",
   "execution_count": 7,
   "metadata": {
    "id": "qj9cSW11zzQL"
   },
   "outputs": [],
   "source": [
    "from skimage.feature import local_binary_pattern, hog\n",
    "\n",
    "\n",
    "class FeatureExtractors(Enum):\n",
    "\t\tMiniImage = 1\n",
    "\t\tHOG = 2\n",
    "\t\tLBP = 3\n",
    "\n",
    "def extract_features(method, img):\n",
    "\t'''Switch between Feature extraction Methods'''\n",
    "\n",
    "\timage_representation = []\n",
    "\n",
    "\tif method == FeatureExtractors.MiniImage:\n",
    "\t\timage_representation = extract_mini_image_features(img)\n",
    "\telif method == FeatureExtractors.HOG:\n",
    "\t\timage_representation = extract_hog_features(img)\n",
    "\telif method == FeatureExtractors.LBP:\n",
    "\t\timage_representation = extract_lbp_features(img)\t\n",
    "\t\n",
    "\treturn image_representation\n",
    "\n",
    "def extract_mini_image_features(img,resize_size=(64,64)):\n",
    "\tresized_image = cv2.resize(img,resize_size)\n",
    "\timage_representation = resized_image.reshape(resize_size[0]*resize_size[1])\n",
    "\treturn image_representation\n",
    "  \n",
    "def extract_lbp_features(img):\n",
    "    # https://scikit-image.org/docs/dev/api/skimage.feature.html?highlight=lbp#skimage.feature.local_binary_pattern\n",
    "    # https://scikit-image.org/docs/dev/auto_examples/features_detection/plot_local_binary_pattern.html\n",
    "    try:\n",
    "        # settings for LBP\n",
    "        radius = LBP_CONFIG['radius']\n",
    "        n_points = LBP_CONFIG['n_points'] * LBP_CONFIG['radius']\n",
    "        METHOD = LBP_CONFIG['METHOD']\n",
    "    except NameError as e:\n",
    "            radius, n_points, METHOD = 3, 8, 'uniform'\n",
    "                    \n",
    "    lbp = local_binary_pattern(img, n_points, radius, METHOD)\n",
    "    \n",
    "    width, height = lbp.shape\n",
    "    \n",
    "    CELL_SIZE = 16\n",
    "    BINS = 10\n",
    "    \n",
    "    quantity_cells_w, quantity_cells_h = int(width/CELL_SIZE), int(height/CELL_SIZE)\n",
    "    \n",
    "    histograms = np.zeros((quantity_cells_w, quantity_cells_h, BINS))\n",
    "    \n",
    "    for i in range(0, quantity_cells_w):\n",
    "        for j in range(0, quantity_cells_h):\n",
    "            top_border, bottom_border = i*CELL_SIZE, (i+1)*CELL_SIZE\n",
    "            left_border, right_border = j*CELL_SIZE, (j+1)*CELL_SIZE\n",
    "            histogram, bins = np.histogram(lbp[top_border:bottom_border, left_border:right_border])\n",
    "            histograms[i, j] = histogram\n",
    "    \n",
    "    sum_of_histograms = np.ravel(histograms).flatten()\n",
    "    return sum_of_histograms\n",
    "\n",
    "def extract_hog_features(img):\n",
    "    # https://scikit-image.org/docs/dev/auto_examples/features_detection/plot_local_binary_pattern.html\n",
    "    hog_repr = hog(img, orientations=8, pixels_per_cell=(16, 16),\n",
    "                    cells_per_block=(4, 4), feature_vector=True)\n",
    "    return hog_repr\n",
    "\n",
    "def extract_sift_features(img):\n",
    "#     https://docs.opencv.org/master/da/df5/tutorial_py_sift_intro.html\n",
    "    sift = cv2.SIFT_create()\n",
    "    keypoints, descriptors = sift.detectAndCompute(img)\n",
    "    return descriptors"
   ]
  },
  {
   "cell_type": "markdown",
   "metadata": {
    "id": "KHCBXMJAptA_"
   },
   "source": [
    "### Armar los datos de entrenamiento y sus etiquetas"
   ]
  },
  {
   "cell_type": "code",
   "execution_count": 8,
   "metadata": {
    "id": "VJI80Tk8ptA_"
   },
   "outputs": [],
   "source": [
    "%%script false --no-raise-error\n",
    "training_images = []\n",
    "training_labels = []\n",
    "for training_image in training_data:\n",
    "    image = (training_image[0]/255)\n",
    "    label = training_image[2]\n",
    "    training_images.append(image.reshape(64*64))\n",
    "    training_labels.append(label.reshape(1))\n",
    "\n",
    "training_images = np.asarray(training_images)\n",
    "training_labels = np.asarray(training_labels)\n",
    "training_labels = training_labels.reshape(training_labels.shape[0])"
   ]
  },
  {
   "cell_type": "code",
   "execution_count": 9,
   "metadata": {
    "id": "OxXEG1AyptBA"
   },
   "outputs": [],
   "source": [
    "%%script false --no-raise-error\n",
    "plt.imshow(training_data[0][0].reshape(64,64), cmap='gray')"
   ]
  },
  {
   "cell_type": "markdown",
   "metadata": {
    "id": "PIhGAwPrptBB"
   },
   "source": [
    "### Construir datos de validación y sus etiquetas\n"
   ]
  },
  {
   "cell_type": "code",
   "execution_count": 10,
   "metadata": {
    "id": "0HSgLxEtptBC"
   },
   "outputs": [],
   "source": [
    "%%script false --no-raise-error\n",
    "validation_images = []\n",
    "validation_labels = []\n",
    "validation_names = []\n",
    "for validation_image in validation_data:\n",
    "    image = (validation_image[0]/255)\n",
    "    label = validation_image[2] \n",
    "    name = validation_image[1][0].split('.')[0]\n",
    "    validation_images.append(image.reshape(64*64))\n",
    "    validation_labels.append(label.reshape(1))\n",
    "    validation_names.append(name)\n",
    "\n",
    "validation_images = np.asarray(validation_images)\n",
    "validation_labels = np.asarray(validation_labels)\n",
    "validation_labels = validation_labels.reshape(validation_labels.shape[0])"
   ]
  },
  {
   "cell_type": "code",
   "execution_count": 11,
   "metadata": {
    "id": "5L0nJy0aptBC"
   },
   "outputs": [],
   "source": [
    "%%script false --no-raise-error\n",
    "knn_classifier = sklearn.neighbors.KNeighborsClassifier(n_neighbors=3,algorithm='brute')\n",
    "knn_classifier.fit(training_images,training_labels)"
   ]
  },
  {
   "cell_type": "code",
   "execution_count": 12,
   "metadata": {
    "id": "5L0nJy0aptBC"
   },
   "outputs": [],
   "source": [
    "from sklearn.svm import SVC\n",
    "\n",
    "# kernel = ['linear', 'poly', 'rbf', 'sigmoid']\n",
    "\n",
    "# C = 1\n",
    "# chosen_kernel = kernel[0]\n",
    "\n",
    "def train_SVM(C, kernel, x, y):\n",
    "    # https://scikit-learn.org/stable/modules/generated/sklearn.svm.SVC.html\n",
    "    # teniendo en cuenta que decision_function_shape{‘ovo’, ‘ovr’}, default=’ovr’\n",
    "    # es decir, por defecto es one versus rest\n",
    "    # no hay que hacer nada especial\n",
    "    svm = SVC(C=C, kernel=kernel, probability=True, degree=4, gamma=3)\n",
    "    svm.fit(x, y)\n",
    "    return svm"
   ]
  },
  {
   "cell_type": "markdown",
   "metadata": {
    "id": "nBAS3HxCptBD"
   },
   "source": [
    "#### Guardar Modelo Entrenado"
   ]
  },
  {
   "cell_type": "code",
   "execution_count": 13,
   "metadata": {
    "id": "GrdVFBTBptBD"
   },
   "outputs": [],
   "source": [
    "%%script false --no-raise-error\n",
    "pickle.dump(knn_classifier,open('./face_recogition', 'wb'))"
   ]
  },
  {
   "cell_type": "markdown",
   "metadata": {
    "id": "7QyAHVHKptBE"
   },
   "source": [
    "#### Cargar modelo"
   ]
  },
  {
   "cell_type": "code",
   "execution_count": 14,
   "metadata": {
    "id": "cjzBPFu3ptBE"
   },
   "outputs": [],
   "source": [
    "%%script false --no-raise-error\n",
    "classifier = pickle.load(open('./face_recogition','rb'))"
   ]
  },
  {
   "cell_type": "markdown",
   "metadata": {
    "id": "4N071KXqptBE"
   },
   "source": [
    "### Clasificar los datos de validación\n"
   ]
  },
  {
   "cell_type": "code",
   "execution_count": 15,
   "metadata": {
    "id": "BZiwMoeqptBE"
   },
   "outputs": [],
   "source": [
    "%%script false --no-raise-error\n",
    "labels = classifier.predict(validation_images)\n",
    "## Get score for each sliding window patch\n",
    "scores = classifier.predict_proba(validation_images)"
   ]
  },
  {
   "cell_type": "markdown",
   "metadata": {
    "id": "IHfEzPlcptBF"
   },
   "source": [
    "###  Evaluar modelo de Reconocimento"
   ]
  },
  {
   "cell_type": "code",
   "execution_count": 16,
   "metadata": {
    "id": "i5opEc6JptBF"
   },
   "outputs": [],
   "source": [
    "%%script false --no-raise-error\n",
    "acc = np.mean(labels==validation_labels)*100"
   ]
  },
  {
   "cell_type": "code",
   "execution_count": 17,
   "metadata": {
    "id": "JrREv9-0ptBF"
   },
   "outputs": [],
   "source": [
    "%%script false --no-raise-error\n",
    "print('The accuracy of face recognition is:%.2f \\n' % acc)\n"
   ]
  },
  {
   "cell_type": "markdown",
   "metadata": {
    "id": "g5_H9zrDptBF"
   },
   "source": [
    "### Visualize Recognition ###"
   ]
  },
  {
   "cell_type": "code",
   "execution_count": 18,
   "metadata": {
    "id": "SSW6M4WpptBG",
    "scrolled": true
   },
   "outputs": [],
   "source": [
    "%%script false --no-raise-error\n",
    "indexes = [13,50,77,18,110] # You can use Random Sample\n",
    "for index in indexes:\n",
    "    predicted_label=labels[index]\n",
    "    real_label = validation_labels[index]\n",
    "\n",
    "    pred_name = validation_names[np.nonzero(validation_labels==predicted_label)[0][0]]\n",
    "    real_name = validation_names[np.nonzero(validation_labels==real_label)[0][0]]\n",
    "    if real_label==predicted_label:\n",
    "        text='TRUE'\n",
    "        color='g'\n",
    "    else:\n",
    "        text='FALSE'\n",
    "        color='r'\n",
    "    font = {'family': 'serif',\n",
    "            'color':  color,\n",
    "            'weight': 'normal',\n",
    "            'size': 16,\n",
    "            }    \n",
    "    plt.imshow(validation_images[index].reshape(64,64), cmap='gray')\n",
    "    plt.axis('off')\n",
    "    plt.title(text, fontdict=font)\n",
    "    sub_font = {'family': 'serif',\n",
    "            'weight': 'normal',\n",
    "            'size': 14,\n",
    "            }    \n",
    "    plt.text(0.5, 75, 'Pred: {} \\nReal: {}'.format(pred_name[:-5],real_name[:-5]), fontdict=sub_font)\n",
    "\n",
    "    plt.show()\n"
   ]
  },
  {
   "cell_type": "markdown",
   "metadata": {
    "id": "GTdCXcw5zE5k"
   },
   "source": [
    "### Searching Hyperparameters"
   ]
  },
  {
   "cell_type": "code",
   "execution_count": 19,
   "metadata": {},
   "outputs": [],
   "source": [
    "\n",
    "def load_training_data(training_data, feature_extractor):\n",
    "    training_images = []\n",
    "    training_labels = []\n",
    "    for training_image in training_data:\n",
    "        image = (training_image[0]/255)\n",
    "        label = training_image[2]\n",
    "        training_repr = extract_features(feature_extractor, image)\n",
    "        \n",
    "        training_images.append(training_repr)\n",
    "        training_labels.append(label.reshape(1))\n",
    "\n",
    "    training_images = np.asarray(training_images)\n",
    "    training_labels = np.asarray(training_labels)\n",
    "    training_labels = training_labels.reshape(training_labels.shape[0])\n",
    "    \n",
    "    return training_images, training_labels\n",
    "    \n",
    "    \n",
    "    \n",
    "def load_validation_data(validation_data, feature_extractor):\n",
    "    validation_images = []\n",
    "    validation_labels = []\n",
    "    validation_names = []\n",
    "    for validation_image in validation_data:\n",
    "        image = (validation_image[0]/255)\n",
    "        label = validation_image[2] \n",
    "        name = validation_image[1][0].split('.')[0]\n",
    "        \n",
    "        validation_repr = extract_features(feature_extractor, image)\n",
    "        validation_images.append(validation_repr)\n",
    "        validation_labels.append(label.reshape(1))\n",
    "        validation_names.append(name)\n",
    "\n",
    "    validation_images = np.asarray(validation_images)\n",
    "    validation_labels = np.asarray(validation_labels)\n",
    "    validation_labels = validation_labels.reshape(validation_labels.shape[0])\n",
    "    \n",
    "    return validation_images, validation_labels"
   ]
  },
  {
   "cell_type": "code",
   "execution_count": 20,
   "metadata": {},
   "outputs": [],
   "source": [
    "%%script false --no-raise-error\n",
    "C = [0.01, 0.1, 0.5, 1, 2, 5]\n",
    "kernel = ['linear', 'poly', 'rbf', 'sigmoid']\n",
    "\n",
    "accs = []\n",
    "\n",
    "feature_extractors = [\n",
    "     FeatureExtractors.MiniImage,\n",
    "     FeatureExtractors.LBP,\n",
    "     FeatureExtractors.HOG\n",
    "][::-1]\n",
    "\n",
    "for feature_extractor in feature_extractors:\n",
    "    print('loading')\n",
    "    training_repr, training_labels = load_training_data(training_data, feature_extractor)\n",
    "    validation_repr, validation_labels = load_validation_data(validation_data, feature_extractor)\n",
    "\n",
    "\n",
    "    for k in kernel:\n",
    "        for c in C:\n",
    "\n",
    "    #         print(f'started training C {c:3} kernel {k:8}, fe {feature_extractor}')\n",
    "            print(f'started training C {c:3} kernel {k:8}')\n",
    "            classifier = train_SVM(c, k, training_repr, training_labels)\n",
    "            print('finished training')\n",
    "\n",
    "            print('starting validation')\n",
    "            labels = classifier.predict(validation_repr)\n",
    "            print('ending validation')\n",
    "\n",
    "            acc = np.mean(labels==validation_labels)*100\n",
    "            print(f'\\nC {float(c):3} kernel {k:8} fe {feature_extractor} - Detection Average Precision is {float(acc):12}%')\n",
    "            accs.append([acc, feature_extractor, c, k])\n",
    "            \n",
    "accs"
   ]
  },
  {
   "cell_type": "code",
   "execution_count": 21,
   "metadata": {
    "scrolled": true
   },
   "outputs": [],
   "source": [
    "%%script false --no-raise-error\n",
    "from operator import itemgetter\n",
    "\n",
    "sorted(accs, key=itemgetter(0))"
   ]
  },
  {
   "cell_type": "code",
   "execution_count": 22,
   "metadata": {},
   "outputs": [],
   "source": [
    "%%script false --no-raise-error\n",
    "\n",
    "pickle.dump(accs,open(f'./accuracy-face-recognition-no-feature-extractor', 'wb'))"
   ]
  },
  {
   "cell_type": "code",
   "execution_count": 23,
   "metadata": {},
   "outputs": [],
   "source": [
    "%%script false --no-raise-error\n",
    "# para cada label, agarro todas sus fotos. Para cada foto, calculo sus descriptores.\n",
    "# ahora, tenemos para cada label sus descriptores. Hago kmeans sobre TODOS los descriptores, codebook\n",
    "# para cada imagen, agarro sus features, hallo a qué cluster pertenece cada uno, y hago histograma\n",
    "# ese histograma es el vector de entrada al svm\n",
    "\n",
    "\n",
    "def build_codebook():\n",
    "    pass"
   ]
  },
  {
   "cell_type": "markdown",
   "metadata": {},
   "source": [
    "## Searching Hyperparameters v2\n",
    "\n",
    "Luego de sugerencia de modificar parámetro cells_per_block de HOG de (1, 1) a (4, 4), y cambiar gamma y degree de SVM a gamma=3 y degree=4, todo mejora:"
   ]
  },
  {
   "cell_type": "code",
   "execution_count": 24,
   "metadata": {},
   "outputs": [],
   "source": [
    "%%script false --no-raise-error\n",
    "from sklearn.svm import SVC\n",
    "\n",
    "def train_SVM(C, kernel, x, y):\n",
    "    svm = SVC(C=C, kernel=kernel, probability=True, degree=4, gamma=3)\n",
    "    svm.fit(x, y)\n",
    "    return svm\n",
    "\n",
    "\n",
    "C = [0.01, 0.1, 0.5, 1, 2, 5]\n",
    "kernel = ['linear', 'poly', 'rbf', 'sigmoid']\n",
    "\n",
    "accs2 = []\n",
    "\n",
    "feature_extractors = [\n",
    "     FeatureExtractors.MiniImage,\n",
    "     FeatureExtractors.LBP,\n",
    "     FeatureExtractors.HOG\n",
    "][::-1]\n",
    "\n",
    "for feature_extractor in feature_extractors:\n",
    "    print('loading')\n",
    "    training_repr, training_labels = load_training_data(training_data, feature_extractor)\n",
    "    validation_repr, validation_labels = load_validation_data(validation_data, feature_extractor)\n",
    "\n",
    "\n",
    "    for k in kernel:\n",
    "        for c in C:\n",
    "\n",
    "    #         print(f'started training C {c:3} kernel {k:8}, fe {feature_extractor}')\n",
    "            print(f'started training C {c:3} kernel {k:8}')\n",
    "            classifier = train_SVM(c, k, training_repr, training_labels)\n",
    "            print('finished training')\n",
    "\n",
    "            print('starting validation')\n",
    "            labels = classifier.predict(validation_repr)\n",
    "            print('ending validation')\n",
    "\n",
    "            acc = np.mean(labels==validation_labels)*100\n",
    "            print(f'\\nC {float(c):3} kernel {k:8} fe {feature_extractor} - Detection Average Precision is {float(acc):12}%')\n",
    "            accs2.append([acc, feature_extractor, c, k])\n",
    "            \n",
    "accs2"
   ]
  },
  {
   "cell_type": "code",
   "execution_count": 25,
   "metadata": {
    "scrolled": true
   },
   "outputs": [],
   "source": [
    "%%script false --no-raise-error\n",
    "from operator import itemgetter\n",
    "\n",
    "sorted(accs2, key=itemgetter(0))"
   ]
  },
  {
   "cell_type": "markdown",
   "metadata": {},
   "source": [
    "### Final Training"
   ]
  },
  {
   "cell_type": "code",
   "execution_count": 26,
   "metadata": {},
   "outputs": [
    {
     "name": "stdout",
     "output_type": "stream",
     "text": [
      "started training C   5 kernel poly    , fe FeatureExtractors.HOG\n",
      "finished training\n"
     ]
    }
   ],
   "source": [
    "C = 5\n",
    "kernel = 'poly'\n",
    "\n",
    "feature_extractor = FeatureExtractors.HOG\n",
    "\n",
    "training_repr, training_labels = load_training_data(training_data, feature_extractor)\n",
    "\n",
    "print(f'started training C {C:3} kernel {kernel:8}, fe {feature_extractor}')\n",
    "classifier = train_SVM(C, kernel, training_repr, training_labels)\n",
    "print('finished training')"
   ]
  },
  {
   "cell_type": "markdown",
   "metadata": {},
   "source": [
    "### Final Validation"
   ]
  },
  {
   "cell_type": "code",
   "execution_count": 27,
   "metadata": {},
   "outputs": [
    {
     "name": "stdout",
     "output_type": "stream",
     "text": [
      "starting validation\n",
      "ending validation\n",
      "\n",
      "C 5.0 kernel poly     fe FeatureExtractors.HOG - Detection Average Precision is 47.74774774774775%\n"
     ]
    }
   ],
   "source": [
    "\n",
    "validation_repr, validation_labels = load_validation_data(validation_data, feature_extractor)\n",
    "\n",
    "print('starting validation')\n",
    "labels = classifier.predict(validation_repr)\n",
    "print('ending validation')\n",
    "\n",
    "acc = np.mean(labels==validation_labels)*100\n",
    "print(f'\\nC {float(C):3} kernel {kernel:8} fe {feature_extractor} - Detection Average Precision is {float(acc):12}%')"
   ]
  },
  {
   "cell_type": "markdown",
   "metadata": {},
   "source": [
    "### Final Testing"
   ]
  },
  {
   "cell_type": "code",
   "execution_count": 28,
   "metadata": {
    "scrolled": true
   },
   "outputs": [
    {
     "name": "stdout",
     "output_type": "stream",
     "text": [
      "starting validation\n",
      "ending validation\n",
      "\n",
      "C 5.0 kernel poly     fe FeatureExtractors.HOG - Detection Average Precision is 45.751633986928105%\n"
     ]
    }
   ],
   "source": [
    "testing_repr, testing_labels = load_validation_data(testing_data, feature_extractor)\n",
    "\n",
    "print('starting validation')\n",
    "labels = classifier.predict(testing_repr)\n",
    "print('ending validation')\n",
    "\n",
    "acc = np.mean(labels==testing_labels)*100\n",
    "print(f'\\nC {float(C):3} kernel {kernel:8} fe {feature_extractor} - Detection Average Precision is {float(acc):12}%')"
   ]
  },
  {
   "cell_type": "markdown",
   "metadata": {},
   "source": [
    "### DEMO"
   ]
  },
  {
   "cell_type": "markdown",
   "metadata": {},
   "source": [
    "#### Validación"
   ]
  },
  {
   "cell_type": "code",
   "execution_count": 29,
   "metadata": {
    "scrolled": true
   },
   "outputs": [
    {
     "data": {
      "image/png": "[encoded data removed]",
      "text/plain": [
       "<Figure size 432x288 with 1 Axes>"
      ]
     },
     "metadata": {
      "needs_background": "light"
     },
     "output_type": "display_data"
    },
    {
     "data": {
      "image/png": "[encoded data removed]",
      "text/plain": [
       "<Figure size 432x288 with 1 Axes>"
      ]
     },
     "metadata": {
      "needs_background": "light"
     },
     "output_type": "display_data"
    },
    {
     "data": {
      "image/png": "[encoded data removed]",
      "text/plain": [
       "<Figure size 432x288 with 1 Axes>"
      ]
     },
     "metadata": {
      "needs_background": "light"
     },
     "output_type": "display_data"
    },
    {
     "data": {
      "image/png": "[encoded data removed]",
      "text/plain": [
       "<Figure size 432x288 with 1 Axes>"
      ]
     },
     "metadata": {
      "needs_background": "light"
     },
     "output_type": "display_data"
    },
    {
     "data": {
      "image/png": "[encoded data removed]",
      "text/plain": [
       "<Figure size 432x288 with 1 Axes>"
      ]
     },
     "metadata": {
      "needs_background": "light"
     },
     "output_type": "display_data"
    }
   ],
   "source": [
    "validation_images = []\n",
    "validation_labels = []\n",
    "validation_names = []\n",
    "for validation_image in validation_data:\n",
    "    image = (validation_image[0]/255)\n",
    "    label = validation_image[2] \n",
    "    name = validation_image[1][0].split('.')[0]\n",
    "    validation_images.append(image.reshape(64*64))\n",
    "    validation_labels.append(label.reshape(1))\n",
    "    validation_names.append(name)\n",
    "\n",
    "validation_images = np.asarray(validation_images)\n",
    "validation_labels = np.asarray(validation_labels)\n",
    "validation_labels = validation_labels.reshape(validation_labels.shape[0])\n",
    "\n",
    "\n",
    "labels = classifier.predict(validation_repr)\n",
    "## Get score for each sliding window patch\n",
    "scores = classifier.predict_proba(validation_repr)\n",
    "\n",
    "indexes = [13,50,77,18,110] # You can use Random Sample\n",
    "for index in indexes:\n",
    "    predicted_label=labels[index]\n",
    "    real_label = validation_labels[index]\n",
    "\n",
    "    pred_name = validation_names[np.nonzero(validation_labels==predicted_label)[0][0]]\n",
    "    real_name = validation_names[np.nonzero(validation_labels==real_label)[0][0]]\n",
    "    if real_label==predicted_label:\n",
    "        text='TRUE'\n",
    "        color='g'\n",
    "    else:\n",
    "        text='FALSE'\n",
    "        color='r'\n",
    "    font = {'family': 'serif',\n",
    "            'color':  color,\n",
    "            'weight': 'normal',\n",
    "            'size': 16,\n",
    "            }    \n",
    "    plt.imshow(validation_images[index].reshape(64,64), cmap='gray')\n",
    "    plt.axis('off')\n",
    "    plt.title(text, fontdict=font)\n",
    "    sub_font = {'family': 'serif',\n",
    "            'weight': 'normal',\n",
    "            'size': 14,\n",
    "            }    \n",
    "    plt.text(0.5, 75, 'Pred: {} \\nReal: {}'.format(pred_name[:-5],real_name[:-5]), fontdict=sub_font)\n",
    "\n",
    "    plt.show()\n"
   ]
  },
  {
   "cell_type": "markdown",
   "metadata": {},
   "source": [
    "#### Testing"
   ]
  },
  {
   "cell_type": "code",
   "execution_count": 30,
   "metadata": {},
   "outputs": [
    {
     "data": {
      "image/png": "[encoded data removed]",
      "text/plain": [
       "<Figure size 432x288 with 1 Axes>"
      ]
     },
     "metadata": {
      "needs_background": "light"
     },
     "output_type": "display_data"
    },
    {
     "data": {
      "image/png": "[encoded data removed]",
      "text/plain": [
       "<Figure size 432x288 with 1 Axes>"
      ]
     },
     "metadata": {
      "needs_background": "light"
     },
     "output_type": "display_data"
    },
    {
     "data": {
      "image/png": "[encoded data removed]",
      "text/plain": [
       "<Figure size 432x288 with 1 Axes>"
      ]
     },
     "metadata": {
      "needs_background": "light"
     },
     "output_type": "display_data"
    },
    {
     "data": {
      "image/png": "[encoded data removed]",
      "text/plain": [
       "<Figure size 432x288 with 1 Axes>"
      ]
     },
     "metadata": {
      "needs_background": "light"
     },
     "output_type": "display_data"
    },
    {
     "data": {
      "image/png": "[encoded data removed]",
      "text/plain": [
       "<Figure size 432x288 with 1 Axes>"
      ]
     },
     "metadata": {
      "needs_background": "light"
     },
     "output_type": "display_data"
    }
   ],
   "source": [
    "testing_images = []\n",
    "testing_labels = []\n",
    "testing_names = []\n",
    "for testing_image in testing_data:\n",
    "    image = (testing_image[0]/255)\n",
    "    label = testing_image[2] \n",
    "    name = testing_image[1][0].split('.')[0]\n",
    "    testing_images.append(image.reshape(64*64))\n",
    "    testing_labels.append(label.reshape(1))\n",
    "    testing_names.append(name)\n",
    "\n",
    "testing_images = np.asarray(testing_images)\n",
    "testing_labels = np.asarray(testing_labels)\n",
    "testing_labels = testing_labels.reshape(testing_labels.shape[0])\n",
    "\n",
    "\n",
    "labels = classifier.predict(testing_repr)\n",
    "## Get score for each sliding window patch\n",
    "scores = classifier.predict_proba(testing_repr)\n",
    "\n",
    "indexes = [13,50,77,18,110] # You can use Random Sample\n",
    "for index in indexes:\n",
    "    predicted_label=labels[index]\n",
    "    real_label = testing_labels[index]\n",
    "\n",
    "    pred_name = testing_names[np.nonzero(testing_labels==predicted_label)[0][0]]\n",
    "    real_name = testing_names[np.nonzero(testing_labels==real_label)[0][0]]\n",
    "    if real_label==predicted_label:\n",
    "        text='TRUE'\n",
    "        color='g'\n",
    "    else:\n",
    "        text='FALSE'\n",
    "        color='r'\n",
    "    font = {'family': 'serif',\n",
    "            'color':  color,\n",
    "            'weight': 'normal',\n",
    "            'size': 16,\n",
    "            }    \n",
    "    plt.imshow(testing_images[index].reshape(64,64), cmap='gray')\n",
    "    plt.axis('off')\n",
    "    plt.title(text, fontdict=font)\n",
    "    sub_font = {'family': 'serif',\n",
    "            'weight': 'normal',\n",
    "            'size': 14,\n",
    "            }    \n",
    "    plt.text(0.5, 75, 'Pred: {} \\nReal: {}'.format(pred_name[:-5],real_name[:-5]), fontdict=sub_font)\n",
    "\n",
    "    plt.show()\n"
   ]
  }
 ],
 "metadata": {
  "colab": {
   "collapsed_sections": [
    "h_pUK1Nhz1eE"
   ],
   "name": "Face Recognition.ipynb",
   "provenance": []
  },
  "kernelspec": {
   "display_name": "Python 3",
   "language": "python",
   "name": "python3"
  },
  "language_info": {
   "codemirror_mode": {
    "name": "ipython",
    "version": 3
   },
   "file_extension": ".py",
   "mimetype": "text/x-python",
   "name": "python",
   "nbconvert_exporter": "python",
   "pygments_lexer": "ipython3",
   "version": "3.8.5"
  }
 },
 "nbformat": 4,
 "nbformat_minor": 1
}
